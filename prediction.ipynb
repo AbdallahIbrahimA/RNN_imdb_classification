{
 "cells": [
  {
   "cell_type": "code",
   "execution_count": 8,
   "metadata": {},
   "outputs": [],
   "source": [
    "# Step 1: Import Libraries and Load the Model\n",
    "from keras.datasets import imdb\n",
    "from keras.preprocessing import sequence\n",
    "from keras.models import load_model"
   ]
  },
  {
   "cell_type": "code",
   "execution_count": 9,
   "metadata": {},
   "outputs": [],
   "source": [
    "# Load the IMDB dataset word index\n",
    "word_index = imdb.get_word_index()\n",
    "reverse_word_index = {value: key for key, value in word_index.items()}"
   ]
  },
  {
   "cell_type": "code",
   "execution_count": 11,
   "metadata": {},
   "outputs": [
    {
     "name": "stderr",
     "output_type": "stream",
     "text": [
      "WARNING:absl:Compiled the loaded model, but the compiled metrics have yet to be built. `model.compile_metrics` will be empty until you train or evaluate the model.\n"
     ]
    },
    {
     "data": {
      "text/html": [
       "<pre style=\"white-space:pre;overflow-x:auto;line-height:normal;font-family:Menlo,'DejaVu Sans Mono',consolas,'Courier New',monospace\"><span style=\"font-weight: bold\">Model: \"sequential_2\"</span>\n",
       "</pre>\n"
      ],
      "text/plain": [
       "\u001b[1mModel: \"sequential_2\"\u001b[0m\n"
      ]
     },
     "metadata": {},
     "output_type": "display_data"
    },
    {
     "data": {
      "text/html": [
       "<pre style=\"white-space:pre;overflow-x:auto;line-height:normal;font-family:Menlo,'DejaVu Sans Mono',consolas,'Courier New',monospace\">┏━━━━━━━━━━━━━━━━━━━━━━━━━━━━━━━━━┳━━━━━━━━━━━━━━━━━━━━━━━━┳━━━━━━━━━━━━━━━┓\n",
       "┃<span style=\"font-weight: bold\"> Layer (type)                    </span>┃<span style=\"font-weight: bold\"> Output Shape           </span>┃<span style=\"font-weight: bold\">       Param # </span>┃\n",
       "┡━━━━━━━━━━━━━━━━━━━━━━━━━━━━━━━━━╇━━━━━━━━━━━━━━━━━━━━━━━━╇━━━━━━━━━━━━━━━┩\n",
       "│ embedding_2 (<span style=\"color: #0087ff; text-decoration-color: #0087ff\">Embedding</span>)         │ (<span style=\"color: #00d7ff; text-decoration-color: #00d7ff\">None</span>, <span style=\"color: #00af00; text-decoration-color: #00af00\">239</span>, <span style=\"color: #00af00; text-decoration-color: #00af00\">128</span>)       │     <span style=\"color: #00af00; text-decoration-color: #00af00\">1,280,000</span> │\n",
       "├─────────────────────────────────┼────────────────────────┼───────────────┤\n",
       "│ simple_rnn_1 (<span style=\"color: #0087ff; text-decoration-color: #0087ff\">SimpleRNN</span>)        │ (<span style=\"color: #00d7ff; text-decoration-color: #00d7ff\">None</span>, <span style=\"color: #00af00; text-decoration-color: #00af00\">128</span>)            │        <span style=\"color: #00af00; text-decoration-color: #00af00\">32,896</span> │\n",
       "├─────────────────────────────────┼────────────────────────┼───────────────┤\n",
       "│ dense_1 (<span style=\"color: #0087ff; text-decoration-color: #0087ff\">Dense</span>)                 │ (<span style=\"color: #00d7ff; text-decoration-color: #00d7ff\">None</span>, <span style=\"color: #00af00; text-decoration-color: #00af00\">1</span>)              │           <span style=\"color: #00af00; text-decoration-color: #00af00\">129</span> │\n",
       "└─────────────────────────────────┴────────────────────────┴───────────────┘\n",
       "</pre>\n"
      ],
      "text/plain": [
       "┏━━━━━━━━━━━━━━━━━━━━━━━━━━━━━━━━━┳━━━━━━━━━━━━━━━━━━━━━━━━┳━━━━━━━━━━━━━━━┓\n",
       "┃\u001b[1m \u001b[0m\u001b[1mLayer (type)                   \u001b[0m\u001b[1m \u001b[0m┃\u001b[1m \u001b[0m\u001b[1mOutput Shape          \u001b[0m\u001b[1m \u001b[0m┃\u001b[1m \u001b[0m\u001b[1m      Param #\u001b[0m\u001b[1m \u001b[0m┃\n",
       "┡━━━━━━━━━━━━━━━━━━━━━━━━━━━━━━━━━╇━━━━━━━━━━━━━━━━━━━━━━━━╇━━━━━━━━━━━━━━━┩\n",
       "│ embedding_2 (\u001b[38;5;33mEmbedding\u001b[0m)         │ (\u001b[38;5;45mNone\u001b[0m, \u001b[38;5;34m239\u001b[0m, \u001b[38;5;34m128\u001b[0m)       │     \u001b[38;5;34m1,280,000\u001b[0m │\n",
       "├─────────────────────────────────┼────────────────────────┼───────────────┤\n",
       "│ simple_rnn_1 (\u001b[38;5;33mSimpleRNN\u001b[0m)        │ (\u001b[38;5;45mNone\u001b[0m, \u001b[38;5;34m128\u001b[0m)            │        \u001b[38;5;34m32,896\u001b[0m │\n",
       "├─────────────────────────────────┼────────────────────────┼───────────────┤\n",
       "│ dense_1 (\u001b[38;5;33mDense\u001b[0m)                 │ (\u001b[38;5;45mNone\u001b[0m, \u001b[38;5;34m1\u001b[0m)              │           \u001b[38;5;34m129\u001b[0m │\n",
       "└─────────────────────────────────┴────────────────────────┴───────────────┘\n"
      ]
     },
     "metadata": {},
     "output_type": "display_data"
    },
    {
     "data": {
      "text/html": [
       "<pre style=\"white-space:pre;overflow-x:auto;line-height:normal;font-family:Menlo,'DejaVu Sans Mono',consolas,'Courier New',monospace\"><span style=\"font-weight: bold\"> Total params: </span><span style=\"color: #00af00; text-decoration-color: #00af00\">1,313,027</span> (5.01 MB)\n",
       "</pre>\n"
      ],
      "text/plain": [
       "\u001b[1m Total params: \u001b[0m\u001b[38;5;34m1,313,027\u001b[0m (5.01 MB)\n"
      ]
     },
     "metadata": {},
     "output_type": "display_data"
    },
    {
     "data": {
      "text/html": [
       "<pre style=\"white-space:pre;overflow-x:auto;line-height:normal;font-family:Menlo,'DejaVu Sans Mono',consolas,'Courier New',monospace\"><span style=\"font-weight: bold\"> Trainable params: </span><span style=\"color: #00af00; text-decoration-color: #00af00\">1,313,025</span> (5.01 MB)\n",
       "</pre>\n"
      ],
      "text/plain": [
       "\u001b[1m Trainable params: \u001b[0m\u001b[38;5;34m1,313,025\u001b[0m (5.01 MB)\n"
      ]
     },
     "metadata": {},
     "output_type": "display_data"
    },
    {
     "data": {
      "text/html": [
       "<pre style=\"white-space:pre;overflow-x:auto;line-height:normal;font-family:Menlo,'DejaVu Sans Mono',consolas,'Courier New',monospace\"><span style=\"font-weight: bold\"> Non-trainable params: </span><span style=\"color: #00af00; text-decoration-color: #00af00\">0</span> (0.00 B)\n",
       "</pre>\n"
      ],
      "text/plain": [
       "\u001b[1m Non-trainable params: \u001b[0m\u001b[38;5;34m0\u001b[0m (0.00 B)\n"
      ]
     },
     "metadata": {},
     "output_type": "display_data"
    },
    {
     "data": {
      "text/html": [
       "<pre style=\"white-space:pre;overflow-x:auto;line-height:normal;font-family:Menlo,'DejaVu Sans Mono',consolas,'Courier New',monospace\"><span style=\"font-weight: bold\"> Optimizer params: </span><span style=\"color: #00af00; text-decoration-color: #00af00\">2</span> (12.00 B)\n",
       "</pre>\n"
      ],
      "text/plain": [
       "\u001b[1m Optimizer params: \u001b[0m\u001b[38;5;34m2\u001b[0m (12.00 B)\n"
      ]
     },
     "metadata": {},
     "output_type": "display_data"
    }
   ],
   "source": [
    "# Load the pre-trained model with compile=False to avoid unsupported arguments\n",
    "model = load_model('model/simple_rnn_imdb.h5')\n",
    "model.summary()"
   ]
  },
  {
   "cell_type": "code",
   "execution_count": 12,
   "metadata": {},
   "outputs": [
    {
     "data": {
      "text/plain": [
       "[array([[-0.18638642, -0.24978755, -0.45192453, ..., -0.56614625,\n",
       "         -0.0646751 , -0.9037126 ],\n",
       "        [ 0.06723269, -0.04380094, -0.0417755 , ..., -0.09916717,\n",
       "          0.08451923,  0.00354527],\n",
       "        [ 0.15062429, -0.08432696, -0.32129526, ..., -0.19998658,\n",
       "          0.12490404, -0.08703355],\n",
       "        ...,\n",
       "        [ 0.00994372,  0.05346572, -0.05158374, ...,  0.08833769,\n",
       "         -0.0423932 ,  0.00215825],\n",
       "        [ 0.05171243,  0.00103555, -0.03117383, ..., -0.10644205,\n",
       "          0.07610943, -0.01135567],\n",
       "        [-0.12501547,  0.04988983,  0.11111508, ...,  0.05093368,\n",
       "         -0.12794958,  0.12628746]], dtype=float32),\n",
       " array([[ 8.3352432e-02, -1.3521014e-02, -7.8065321e-05, ...,\n",
       "         -1.1325043e-01,  7.0036791e-02, -3.3730108e-02],\n",
       "        [ 7.3085628e-02, -1.0482203e-01, -3.5563808e-02, ...,\n",
       "         -2.2651585e-02, -2.2590545e-03, -1.0408279e-01],\n",
       "        [-1.0402868e-01,  8.8855676e-02,  5.4049794e-02, ...,\n",
       "          1.4950731e-03,  1.6612519e-01, -2.7483439e-03],\n",
       "        ...,\n",
       "        [ 7.9180218e-02,  7.4137539e-02, -9.4434813e-02, ...,\n",
       "          8.7890364e-02,  3.4795322e-02,  7.8271627e-02],\n",
       "        [-2.1997383e-02,  1.1387483e-01,  1.6480491e-02, ...,\n",
       "         -4.1442163e-02,  4.3984082e-02,  1.4089677e-01],\n",
       "        [ 1.5626611e-01,  1.6099529e-01, -4.6794210e-02, ...,\n",
       "         -1.5398006e-01,  2.1877949e-01, -5.0534979e-02]], dtype=float32),\n",
       " array([[-0.07947335,  0.07401287, -0.23150125, ..., -0.06365295,\n",
       "         -0.00788707, -0.06947024],\n",
       "        [ 0.2137431 , -0.07512496, -0.00266663, ..., -0.03133119,\n",
       "          0.02559807, -0.24198605],\n",
       "        [ 0.08616202, -0.078659  , -0.0685912 , ...,  0.0459328 ,\n",
       "         -0.03578069, -0.02838268],\n",
       "        ...,\n",
       "        [-0.12659058,  0.06233665,  0.00787567, ..., -0.00627888,\n",
       "         -0.03771393, -0.03917455],\n",
       "        [-0.23729604, -0.01041244, -0.09846906, ...,  0.06192773,\n",
       "         -0.00964313, -0.2057518 ],\n",
       "        [ 0.00593632, -0.02652896,  0.06445657, ..., -0.15590204,\n",
       "          0.10888828, -0.20628007]], dtype=float32),\n",
       " array([-0.02921183, -0.03503648, -0.05681549, -0.00958754, -0.0613083 ,\n",
       "        -0.02247758, -0.01140184, -0.03527248, -0.04036307, -0.03143566,\n",
       "        -0.01968566, -0.01407081, -0.03929953,  0.01154554,  0.00014948,\n",
       "        -0.03903718,  0.01906954, -0.05085708, -0.00811596, -0.01476089,\n",
       "        -0.04231523, -0.03745841, -0.04464321, -0.02499183,  0.01060453,\n",
       "         0.02299007, -0.05878969, -0.01271485, -0.02885567,  0.00314988,\n",
       "        -0.03237329, -0.0054959 ,  0.00436691,  0.01847562,  0.01185935,\n",
       "        -0.0363079 , -0.01433895, -0.0467933 , -0.02508713, -0.04622858,\n",
       "         0.0035165 , -0.00354219, -0.01685192,  0.00839989, -0.03288364,\n",
       "        -0.03135274, -0.03484413, -0.05728799,  0.03063111, -0.05792295,\n",
       "        -0.00853912, -0.00724858, -0.03492403, -0.00692055, -0.03857603,\n",
       "        -0.0557595 , -0.02944346,  0.04530117, -0.04246179, -0.04434106,\n",
       "        -0.03854238, -0.0616148 , -0.00942818,  0.00116749, -0.05825244,\n",
       "        -0.01147893, -0.02969274,  0.01071172,  0.01182351,  0.0049603 ,\n",
       "        -0.02796027, -0.0332925 , -0.05918   , -0.04128529,  0.00260583,\n",
       "        -0.02972031, -0.04143355, -0.04647735, -0.04997263, -0.03789779,\n",
       "        -0.03161246, -0.02055272,  0.01860075,  0.01252661, -0.00806054,\n",
       "         0.00659638, -0.00780815,  0.0356673 ,  0.00988383, -0.0252577 ,\n",
       "        -0.07385424, -0.0086025 ,  0.06413975, -0.02334628, -0.04324354,\n",
       "        -0.04027338, -0.0148978 , -0.04649964,  0.04208628,  0.00091534,\n",
       "        -0.02759809, -0.04644575, -0.04515485, -0.01080121,  0.01527898,\n",
       "         0.01244572, -0.01307499, -0.01799666,  0.01267754, -0.06357775,\n",
       "        -0.05931926, -0.05539116,  0.00939838,  0.05604235,  0.0183018 ,\n",
       "        -0.01727892, -0.043258  , -0.01639939, -0.06974968, -0.05744495,\n",
       "         0.01309219, -0.02502344, -0.01919941,  0.02711122, -0.07422612,\n",
       "        -0.03421522, -0.03139117, -0.08799668], dtype=float32),\n",
       " array([[ 6.73472136e-02],\n",
       "        [ 1.78472549e-01],\n",
       "        [-1.07270554e-01],\n",
       "        [ 1.60391331e-01],\n",
       "        [ 1.77654058e-01],\n",
       "        [ 2.42306739e-02],\n",
       "        [-2.48352751e-01],\n",
       "        [ 1.40473276e-01],\n",
       "        [-1.32911161e-01],\n",
       "        [ 1.23068392e-01],\n",
       "        [ 1.91449538e-01],\n",
       "        [ 2.32477173e-01],\n",
       "        [ 1.66086048e-01],\n",
       "        [-1.72332227e-01],\n",
       "        [-8.99365023e-02],\n",
       "        [-3.55844386e-02],\n",
       "        [-4.49004978e-01],\n",
       "        [ 3.90729085e-02],\n",
       "        [ 7.80657679e-02],\n",
       "        [-1.98993638e-01],\n",
       "        [ 2.45306969e-01],\n",
       "        [-2.33318225e-01],\n",
       "        [ 2.24465325e-01],\n",
       "        [ 1.87520310e-01],\n",
       "        [-1.47378877e-01],\n",
       "        [ 3.58710699e-02],\n",
       "        [ 1.50893986e-01],\n",
       "        [ 1.05064690e-01],\n",
       "        [ 2.11079240e-01],\n",
       "        [-1.56573936e-01],\n",
       "        [-2.11909950e-01],\n",
       "        [-7.87929237e-01],\n",
       "        [ 6.37935027e-02],\n",
       "        [ 1.36626169e-01],\n",
       "        [ 1.56946152e-01],\n",
       "        [-4.51100245e-03],\n",
       "        [ 1.81107670e-01],\n",
       "        [-5.34623228e-02],\n",
       "        [ 1.09793961e-01],\n",
       "        [-7.73946121e-02],\n",
       "        [ 5.40072441e-01],\n",
       "        [-1.89770028e-01],\n",
       "        [ 3.74384284e-01],\n",
       "        [-2.09655270e-01],\n",
       "        [-1.89269707e-01],\n",
       "        [-2.28332356e-02],\n",
       "        [-6.76444098e-02],\n",
       "        [ 3.69071782e-01],\n",
       "        [-1.64567888e-01],\n",
       "        [-2.13281408e-01],\n",
       "        [ 1.79468527e-01],\n",
       "        [ 1.03520572e-01],\n",
       "        [-9.61887315e-02],\n",
       "        [-5.01646757e-01],\n",
       "        [-3.50249946e-01],\n",
       "        [-1.44524500e-01],\n",
       "        [-6.67966232e-02],\n",
       "        [ 1.57293653e+00],\n",
       "        [-2.61467725e-01],\n",
       "        [ 1.43585145e-01],\n",
       "        [ 1.31687820e-01],\n",
       "        [-1.45327032e-01],\n",
       "        [ 4.49170964e-03],\n",
       "        [ 2.16651246e-01],\n",
       "        [-2.80417446e-02],\n",
       "        [-2.36313753e-02],\n",
       "        [ 1.36567447e-02],\n",
       "        [-2.26724401e-01],\n",
       "        [-2.05193713e-01],\n",
       "        [ 1.19172759e-01],\n",
       "        [ 2.01003850e-01],\n",
       "        [ 1.16164885e-01],\n",
       "        [-3.69362235e-02],\n",
       "        [ 1.69283092e-01],\n",
       "        [ 1.15681216e-01],\n",
       "        [ 1.72732636e-01],\n",
       "        [ 8.93246308e-02],\n",
       "        [-2.06066787e-01],\n",
       "        [ 7.09363148e-02],\n",
       "        [-1.30585283e-01],\n",
       "        [-1.76826775e-01],\n",
       "        [-1.33097082e-01],\n",
       "        [ 1.97135672e-01],\n",
       "        [ 1.62120327e-01],\n",
       "        [-2.35162184e-01],\n",
       "        [ 1.68614194e-01],\n",
       "        [-1.74824655e-01],\n",
       "        [-8.19298089e-04],\n",
       "        [ 1.34845689e-01],\n",
       "        [-2.22934932e-01],\n",
       "        [ 2.49643046e-02],\n",
       "        [-1.68953463e-01],\n",
       "        [-4.40132841e-02],\n",
       "        [-4.01399173e-02],\n",
       "        [ 1.24833539e-01],\n",
       "        [ 1.41288877e-01],\n",
       "        [ 1.60341486e-01],\n",
       "        [ 1.31958023e-01],\n",
       "        [ 1.31883681e-01],\n",
       "        [-1.78660676e-01],\n",
       "        [-5.82562350e-02],\n",
       "        [ 4.68477458e-01],\n",
       "        [ 2.40894154e-01],\n",
       "        [-9.57057029e-02],\n",
       "        [ 1.82201609e-01],\n",
       "        [-1.69708833e-01],\n",
       "        [-4.25645083e-01],\n",
       "        [ 1.32207349e-01],\n",
       "        [ 8.95616561e-02],\n",
       "        [ 1.73165619e-01],\n",
       "        [-4.67005074e-02],\n",
       "        [ 2.21258402e-01],\n",
       "        [ 1.56899378e-01],\n",
       "        [-1.41099751e-01],\n",
       "        [-3.33165266e-02],\n",
       "        [-5.57773590e-01],\n",
       "        [ 4.97855507e-02],\n",
       "        [-8.36575553e-02],\n",
       "        [ 8.40791538e-02],\n",
       "        [ 1.45670474e-01],\n",
       "        [ 1.67239383e-01],\n",
       "        [-2.08804905e-01],\n",
       "        [ 1.33988366e-01],\n",
       "        [ 1.88115895e-01],\n",
       "        [ 5.72660938e-02],\n",
       "        [-1.22501455e-01],\n",
       "        [ 1.30941784e-02],\n",
       "        [-1.37539193e-01]], dtype=float32),\n",
       " array([0.4700731], dtype=float32)]"
      ]
     },
     "execution_count": 12,
     "metadata": {},
     "output_type": "execute_result"
    }
   ],
   "source": [
    "model.get_weights()"
   ]
  },
  {
   "cell_type": "code",
   "execution_count": 13,
   "metadata": {},
   "outputs": [],
   "source": [
    "# Step 2: Helper Functions\n",
    "# Function to decode reviews\n",
    "def decode_review(encoded_review):\n",
    "    return ' '.join([reverse_word_index.get(i - 3, '?') for i in encoded_review])\n",
    "\n",
    "# Function to preprocess user input\n",
    "def preprocess_text(text):\n",
    "    words = text.lower().split()\n",
    "    encoded_review = [word_index.get(word, 2) + 3 for word in words]\n",
    "    padded_review = sequence.pad_sequences([encoded_review], maxlen=500)\n",
    "    return padded_review"
   ]
  },
  {
   "cell_type": "code",
   "execution_count": 14,
   "metadata": {},
   "outputs": [],
   "source": [
    "### Prediction  function\n",
    "\n",
    "def predict_sentiment(review):\n",
    "    preprocessed_input=preprocess_text(review)\n",
    "\n",
    "    prediction=model.predict(preprocessed_input)\n",
    "\n",
    "    sentiment = 'Positive' if prediction[0][0] > 0.5 else 'Negative'\n",
    "    \n",
    "    return sentiment, prediction[0][0]\n",
    "\n"
   ]
  },
  {
   "cell_type": "code",
   "execution_count": 15,
   "metadata": {},
   "outputs": [
    {
     "name": "stdout",
     "output_type": "stream",
     "text": [
      "\u001b[1m1/1\u001b[0m \u001b[32m━━━━━━━━━━━━━━━━━━━━\u001b[0m\u001b[37m\u001b[0m \u001b[1m0s\u001b[0m 367ms/step\n",
      "Review: This movie was fantastic! The acting was great and the plot was thrilling.\n",
      "Sentiment: Positive\n",
      "Prediction Score: 0.6483314037322998\n"
     ]
    }
   ],
   "source": [
    "# Step 4: User Input and Prediction\n",
    "# Example review for prediction\n",
    "example_review = \"This movie was fantastic! The acting was great and the plot was thrilling.\"\n",
    "\n",
    "sentiment,score=predict_sentiment(example_review)\n",
    "\n",
    "print(f'Review: {example_review}')\n",
    "print(f'Sentiment: {sentiment}')\n",
    "print(f'Prediction Score: {score}')"
   ]
  },
  {
   "cell_type": "code",
   "execution_count": null,
   "metadata": {},
   "outputs": [],
   "source": []
  },
  {
   "cell_type": "code",
   "execution_count": null,
   "metadata": {},
   "outputs": [],
   "source": []
  },
  {
   "cell_type": "code",
   "execution_count": null,
   "metadata": {},
   "outputs": [],
   "source": []
  },
  {
   "cell_type": "code",
   "execution_count": null,
   "metadata": {},
   "outputs": [],
   "source": []
  }
 ],
 "metadata": {
  "kernelspec": {
   "display_name": "Python 3",
   "language": "python",
   "name": "python3"
  },
  "language_info": {
   "codemirror_mode": {
    "name": "ipython",
    "version": 3
   },
   "file_extension": ".py",
   "mimetype": "text/x-python",
   "name": "python",
   "nbconvert_exporter": "python",
   "pygments_lexer": "ipython3",
   "version": "3.9.12"
  }
 },
 "nbformat": 4,
 "nbformat_minor": 2
}
